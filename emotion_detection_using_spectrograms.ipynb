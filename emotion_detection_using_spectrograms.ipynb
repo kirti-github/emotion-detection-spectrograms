{
  "nbformat": 4,
  "nbformat_minor": 0,
  "metadata": {
    "accelerator": "GPU",
    "colab": {
      "name": "emotion_detection_using_spectrograms.ipynb",
      "provenance": [],
      "collapsed_sections": [],
      "include_colab_link": true
    },
    "kernelspec": {
      "display_name": "Python 3",
      "name": "python3"
    }
  },
  "cells": [
    {
      "cell_type": "markdown",
      "metadata": {
        "id": "view-in-github",
        "colab_type": "text"
      },
      "source": [
        "<a href=\"https://colab.research.google.com/github/kirti-github/emotion-detection-spectrograms/blob/main/emotion_detection_using_spectrograms.ipynb\" target=\"_parent\"><img src=\"https://colab.research.google.com/assets/colab-badge.svg\" alt=\"Open In Colab\"/></a>"
      ]
    },
    {
      "cell_type": "code",
      "metadata": {
        "id": "FB7S_Hqym4lW"
      },
      "source": [
        "!unzip /content/drive/'My Drive'/spectrograms.zip -d /content/spec_samples"
      ],
      "execution_count": null,
      "outputs": []
    },
    {
      "cell_type": "code",
      "metadata": {
        "id": "KWGjyQBawvdu"
      },
      "source": [
        "# Importing required libraries\n",
        "from keras.models import Sequential, Model\n",
        "from keras.layers import Conv2D\n",
        "from keras.layers import MaxPooling2D\n",
        "from keras.layers import Flatten\n",
        "from keras.layers import Dense\n",
        "from keras.layers import Dropout, BatchNormalization\n",
        "import matplotlib.pyplot as plt\n",
        "from sklearn.metrics import classification_report, confusion_matrix\n",
        "import numpy as np\n",
        "import seaborn as sns\n",
        "import pandas as pd\n",
        "from keras.preprocessing.image import ImageDataGenerator\n",
        "from keras.callbacks import ModelCheckpoint"
      ],
      "execution_count": null,
      "outputs": []
    },
    {
      "cell_type": "code",
      "metadata": {
        "id": "iX9xOFGrwV0j"
      },
      "source": [
        "# Building the model\n",
        "classifier=Sequential()\n",
        "\n",
        "classifier.add(Conv2D(64,kernel_size=(3,3),input_shape=(288,288,3), activation='relu'))\n",
        "classifier.add(MaxPooling2D(pool_size=(2,2)))\n",
        "classifier.add(BatchNormalization())\n",
        "\n",
        "classifier.add(Conv2D(128,kernel_size=(3,3), activation='relu'))\n",
        "classifier.add(MaxPooling2D(pool_size=(2,2)))\n",
        "classifier.add(BatchNormalization())\n",
        "\n",
        "classifier.add(Conv2D(256,kernel_size=(3,3), activation='relu'))\n",
        "classifier.add(MaxPooling2D(pool_size=(2,2)))\n",
        "\n",
        "classifier.add(Flatten())\n",
        "\n",
        "classifier.add(Dropout(rate=0.50))\n",
        "classifier.add(Dense(units=128, activation='relu'))\n",
        "classifier.add(BatchNormalization())\n",
        "classifier.add(Dense(units=5, activation='softmax'))"
      ],
      "execution_count": null,
      "outputs": []
    },
    {
      "cell_type": "code",
      "metadata": {
        "id": "xGmKNEix_boD"
      },
      "source": [
        "#Compiling the model\n",
        "classifier.compile(optimizer='adam', loss='categorical_crossentropy',\n",
        "                   metrics=['accuracy'])"
      ],
      "execution_count": null,
      "outputs": []
    },
    {
      "cell_type": "code",
      "metadata": {
        "colab": {
          "base_uri": "https://localhost:8080/"
        },
        "id": "9xdBHME1_M7D",
        "outputId": "deb1cec9-7071-43b2-df71-f49906fe4859"
      },
      "source": [
        "classifier.summary()"
      ],
      "execution_count": null,
      "outputs": [
        {
          "output_type": "stream",
          "text": [
            "Model: \"sequential\"\n",
            "_________________________________________________________________\n",
            "Layer (type)                 Output Shape              Param #   \n",
            "=================================================================\n",
            "conv2d (Conv2D)              (None, 286, 286, 64)      1792      \n",
            "_________________________________________________________________\n",
            "max_pooling2d (MaxPooling2D) (None, 143, 143, 64)      0         \n",
            "_________________________________________________________________\n",
            "batch_normalization (BatchNo (None, 143, 143, 64)      256       \n",
            "_________________________________________________________________\n",
            "conv2d_1 (Conv2D)            (None, 141, 141, 128)     73856     \n",
            "_________________________________________________________________\n",
            "max_pooling2d_1 (MaxPooling2 (None, 70, 70, 128)       0         \n",
            "_________________________________________________________________\n",
            "batch_normalization_1 (Batch (None, 70, 70, 128)       512       \n",
            "_________________________________________________________________\n",
            "conv2d_2 (Conv2D)            (None, 68, 68, 256)       295168    \n",
            "_________________________________________________________________\n",
            "max_pooling2d_2 (MaxPooling2 (None, 34, 34, 256)       0         \n",
            "_________________________________________________________________\n",
            "flatten (Flatten)            (None, 295936)            0         \n",
            "_________________________________________________________________\n",
            "dropout (Dropout)            (None, 295936)            0         \n",
            "_________________________________________________________________\n",
            "dense (Dense)                (None, 128)               37879936  \n",
            "_________________________________________________________________\n",
            "batch_normalization_2 (Batch (None, 128)               512       \n",
            "_________________________________________________________________\n",
            "dense_1 (Dense)              (None, 5)                 645       \n",
            "=================================================================\n",
            "Total params: 38,252,677\n",
            "Trainable params: 38,252,037\n",
            "Non-trainable params: 640\n",
            "_________________________________________________________________\n"
          ],
          "name": "stdout"
        }
      ]
    },
    {
      "cell_type": "code",
      "metadata": {
        "colab": {
          "base_uri": "https://localhost:8080/"
        },
        "id": "azqvTu8H_Qsr",
        "outputId": "885e38d3-70d7-4eef-8d3c-8d89eec67bd1"
      },
      "source": [
        "# loading the training data\n",
        "batch_size = 64\n",
        "\n",
        "# Data augmentation such as shear, zoom are used. Here, flip, rotation are avoided since they dont hold relevance for this dataset.\n",
        "train_datagen = ImageDataGenerator(\n",
        "        rescale=1./255,\n",
        "        shear_range=0.2,\n",
        "        zoom_range=0.2)\n",
        "\n",
        "training_set = train_datagen.flow_from_directory(\n",
        "        '/content/spec_samples/spectrograms/train',\n",
        "        target_size=(288,288),   \n",
        "        batch_size=30,\n",
        "        seed=42,\n",
        "        class_mode='categorical')\n",
        "\n",
        "steps_per_epoch = training_set.n // training_set.batch_size"
      ],
      "execution_count": null,
      "outputs": [
        {
          "output_type": "stream",
          "text": [
            "Found 670 images belonging to 5 classes.\n"
          ],
          "name": "stdout"
        }
      ]
    },
    {
      "cell_type": "code",
      "metadata": {
        "colab": {
          "base_uri": "https://localhost:8080/"
        },
        "id": "e3t5mWHIAMs4",
        "outputId": "21c99b5b-74ad-441a-cba7-4ed4b133eb5e"
      },
      "source": [
        "# loading the validation data\n",
        "val_datagen = ImageDataGenerator(rescale=1./255)\n",
        "\n",
        "val_set = val_datagen.flow_from_directory(\n",
        "        '/content/spec_samples/spectrograms/val',\n",
        "        target_size=(288,288),\n",
        "        batch_size=30,\n",
        "        shuffle=False,\n",
        "        seed=42,\n",
        "        class_mode='categorical')\n",
        "validation_steps = val_set.n // val_set.batch_size"
      ],
      "execution_count": null,
      "outputs": [
        {
          "output_type": "stream",
          "text": [
            "Found 140 images belonging to 5 classes.\n"
          ],
          "name": "stdout"
        }
      ]
    },
    {
      "cell_type": "code",
      "metadata": {
        "colab": {
          "base_uri": "https://localhost:8080/"
        },
        "id": "EFQ6x-jaAkJc",
        "outputId": "b364ec9c-efff-47ab-d27e-4d4dfd2d7571"
      },
      "source": [
        "# Creating a model checkpoint to get the best model having the least loss\n",
        "chkpt = ModelCheckpoint(filepath='best_model_mobnet.h5', save_best_only=True, monitor=\"val_loss\", mode=\"auto\",verbose=1)\n",
        "hist_data=classifier.fit(\n",
        "            training_set,\n",
        "            steps_per_epoch=steps_per_epoch,\n",
        "            epochs=100,\n",
        "            validation_data=val_set,\n",
        "            validation_steps = validation_steps,\n",
        "            callbacks = chkpt)"
      ],
      "execution_count": null,
      "outputs": [
        {
          "output_type": "stream",
          "text": [
            "Epoch 1/100\n",
            "22/22 [==============================] - 51s 820ms/step - loss: 1.9103 - accuracy: 0.3012 - val_loss: 2.1749 - val_accuracy: 0.2333\n",
            "\n",
            "Epoch 00001: val_loss improved from inf to 2.17485, saving model to best_model_mobnet.h5\n",
            "Epoch 2/100\n",
            "22/22 [==============================] - 17s 744ms/step - loss: 1.2939 - accuracy: 0.4663 - val_loss: 3.8662 - val_accuracy: 0.2333\n",
            "\n",
            "Epoch 00002: val_loss did not improve from 2.17485\n",
            "Epoch 3/100\n",
            "22/22 [==============================] - 16s 736ms/step - loss: 1.2130 - accuracy: 0.5272 - val_loss: 4.3629 - val_accuracy: 0.2333\n",
            "\n",
            "Epoch 00003: val_loss did not improve from 2.17485\n",
            "Epoch 4/100\n",
            "22/22 [==============================] - 16s 741ms/step - loss: 1.1670 - accuracy: 0.5419 - val_loss: 4.3489 - val_accuracy: 0.2333\n",
            "\n",
            "Epoch 00004: val_loss did not improve from 2.17485\n",
            "Epoch 5/100\n",
            "22/22 [==============================] - 17s 743ms/step - loss: 1.1329 - accuracy: 0.5316 - val_loss: 4.4071 - val_accuracy: 0.2333\n",
            "\n",
            "Epoch 00005: val_loss did not improve from 2.17485\n",
            "Epoch 6/100\n",
            "22/22 [==============================] - 16s 736ms/step - loss: 0.9975 - accuracy: 0.5945 - val_loss: 4.0468 - val_accuracy: 0.2333\n",
            "\n",
            "Epoch 00006: val_loss did not improve from 2.17485\n",
            "Epoch 7/100\n",
            "22/22 [==============================] - 16s 736ms/step - loss: 0.9852 - accuracy: 0.6039 - val_loss: 4.2448 - val_accuracy: 0.2333\n",
            "\n",
            "Epoch 00007: val_loss did not improve from 2.17485\n",
            "Epoch 8/100\n",
            "22/22 [==============================] - 17s 743ms/step - loss: 0.9412 - accuracy: 0.6435 - val_loss: 4.4582 - val_accuracy: 0.2333\n",
            "\n",
            "Epoch 00008: val_loss did not improve from 2.17485\n",
            "Epoch 9/100\n",
            "22/22 [==============================] - 16s 737ms/step - loss: 0.9353 - accuracy: 0.6129 - val_loss: 4.6907 - val_accuracy: 0.2333\n",
            "\n",
            "Epoch 00009: val_loss did not improve from 2.17485\n",
            "Epoch 10/100\n",
            "22/22 [==============================] - 16s 733ms/step - loss: 0.9381 - accuracy: 0.6161 - val_loss: 4.8356 - val_accuracy: 0.2333\n",
            "\n",
            "Epoch 00010: val_loss did not improve from 2.17485\n",
            "Epoch 11/100\n",
            "22/22 [==============================] - 16s 765ms/step - loss: 0.8195 - accuracy: 0.6786 - val_loss: 5.0530 - val_accuracy: 0.2333\n",
            "\n",
            "Epoch 00011: val_loss did not improve from 2.17485\n",
            "Epoch 12/100\n",
            "22/22 [==============================] - 16s 737ms/step - loss: 0.7552 - accuracy: 0.7220 - val_loss: 5.3547 - val_accuracy: 0.2333\n",
            "\n",
            "Epoch 00012: val_loss did not improve from 2.17485\n",
            "Epoch 13/100\n",
            "22/22 [==============================] - 16s 733ms/step - loss: 0.8121 - accuracy: 0.6751 - val_loss: 5.1102 - val_accuracy: 0.2333\n",
            "\n",
            "Epoch 00013: val_loss did not improve from 2.17485\n",
            "Epoch 14/100\n",
            "22/22 [==============================] - 16s 732ms/step - loss: 0.7112 - accuracy: 0.7164 - val_loss: 4.8078 - val_accuracy: 0.2333\n",
            "\n",
            "Epoch 00014: val_loss did not improve from 2.17485\n",
            "Epoch 15/100\n",
            "22/22 [==============================] - 17s 744ms/step - loss: 0.7184 - accuracy: 0.7561 - val_loss: 4.7621 - val_accuracy: 0.2333\n",
            "\n",
            "Epoch 00015: val_loss did not improve from 2.17485\n",
            "Epoch 16/100\n",
            "22/22 [==============================] - 17s 750ms/step - loss: 0.6280 - accuracy: 0.7804 - val_loss: 4.9308 - val_accuracy: 0.2333\n",
            "\n",
            "Epoch 00016: val_loss did not improve from 2.17485\n",
            "Epoch 17/100\n",
            "22/22 [==============================] - 17s 743ms/step - loss: 0.5901 - accuracy: 0.7781 - val_loss: 5.1723 - val_accuracy: 0.2333\n",
            "\n",
            "Epoch 00017: val_loss did not improve from 2.17485\n",
            "Epoch 18/100\n",
            "22/22 [==============================] - 17s 750ms/step - loss: 0.6364 - accuracy: 0.7618 - val_loss: 4.6340 - val_accuracy: 0.2333\n",
            "\n",
            "Epoch 00018: val_loss did not improve from 2.17485\n",
            "Epoch 19/100\n",
            "22/22 [==============================] - 17s 752ms/step - loss: 0.5645 - accuracy: 0.8094 - val_loss: 4.6786 - val_accuracy: 0.2333\n",
            "\n",
            "Epoch 00019: val_loss did not improve from 2.17485\n",
            "Epoch 20/100\n",
            "22/22 [==============================] - 16s 738ms/step - loss: 0.5466 - accuracy: 0.8002 - val_loss: 4.4914 - val_accuracy: 0.2417\n",
            "\n",
            "Epoch 00020: val_loss did not improve from 2.17485\n",
            "Epoch 21/100\n",
            "22/22 [==============================] - 16s 738ms/step - loss: 0.4541 - accuracy: 0.8368 - val_loss: 4.4773 - val_accuracy: 0.2333\n",
            "\n",
            "Epoch 00021: val_loss did not improve from 2.17485\n",
            "Epoch 22/100\n",
            "22/22 [==============================] - 16s 736ms/step - loss: 0.4665 - accuracy: 0.8205 - val_loss: 3.9695 - val_accuracy: 0.2667\n",
            "\n",
            "Epoch 00022: val_loss did not improve from 2.17485\n",
            "Epoch 23/100\n",
            "22/22 [==============================] - 16s 734ms/step - loss: 0.4370 - accuracy: 0.8613 - val_loss: 3.7125 - val_accuracy: 0.2417\n",
            "\n",
            "Epoch 00023: val_loss did not improve from 2.17485\n",
            "Epoch 24/100\n",
            "22/22 [==============================] - 16s 733ms/step - loss: 0.4436 - accuracy: 0.8446 - val_loss: 1.6352 - val_accuracy: 0.5833\n",
            "\n",
            "Epoch 00024: val_loss improved from 2.17485 to 1.63518, saving model to best_model_mobnet.h5\n",
            "Epoch 25/100\n",
            "22/22 [==============================] - 16s 760ms/step - loss: 0.4412 - accuracy: 0.8242 - val_loss: 3.6949 - val_accuracy: 0.2583\n",
            "\n",
            "Epoch 00025: val_loss did not improve from 1.63518\n",
            "Epoch 26/100\n",
            "22/22 [==============================] - 16s 733ms/step - loss: 0.3489 - accuracy: 0.9032 - val_loss: 1.1866 - val_accuracy: 0.6083\n",
            "\n",
            "Epoch 00026: val_loss improved from 1.63518 to 1.18662, saving model to best_model_mobnet.h5\n",
            "Epoch 27/100\n",
            "22/22 [==============================] - 16s 736ms/step - loss: 0.3662 - accuracy: 0.8843 - val_loss: 3.9830 - val_accuracy: 0.3000\n",
            "\n",
            "Epoch 00027: val_loss did not improve from 1.18662\n",
            "Epoch 28/100\n",
            "22/22 [==============================] - 16s 740ms/step - loss: 0.3348 - accuracy: 0.8819 - val_loss: 3.6433 - val_accuracy: 0.3000\n",
            "\n",
            "Epoch 00028: val_loss did not improve from 1.18662\n",
            "Epoch 29/100\n",
            "22/22 [==============================] - 16s 759ms/step - loss: 0.3313 - accuracy: 0.8750 - val_loss: 3.2257 - val_accuracy: 0.4500\n",
            "\n",
            "Epoch 00029: val_loss did not improve from 1.18662\n",
            "Epoch 30/100\n",
            "22/22 [==============================] - 16s 737ms/step - loss: 0.3404 - accuracy: 0.8661 - val_loss: 1.9797 - val_accuracy: 0.4167\n",
            "\n",
            "Epoch 00030: val_loss did not improve from 1.18662\n",
            "Epoch 31/100\n",
            "22/22 [==============================] - 16s 728ms/step - loss: 0.3525 - accuracy: 0.8607 - val_loss: 2.1918 - val_accuracy: 0.4500\n",
            "\n",
            "Epoch 00031: val_loss did not improve from 1.18662\n",
            "Epoch 32/100\n",
            "22/22 [==============================] - 16s 731ms/step - loss: 0.2582 - accuracy: 0.9131 - val_loss: 2.5316 - val_accuracy: 0.4000\n",
            "\n",
            "Epoch 00032: val_loss did not improve from 1.18662\n",
            "Epoch 33/100\n",
            "22/22 [==============================] - 16s 737ms/step - loss: 0.2792 - accuracy: 0.9059 - val_loss: 5.2686 - val_accuracy: 0.2333\n",
            "\n",
            "Epoch 00033: val_loss did not improve from 1.18662\n",
            "Epoch 34/100\n",
            "22/22 [==============================] - 16s 767ms/step - loss: 0.2028 - accuracy: 0.9405 - val_loss: 2.5107 - val_accuracy: 0.5083\n",
            "\n",
            "Epoch 00034: val_loss did not improve from 1.18662\n",
            "Epoch 35/100\n",
            "22/22 [==============================] - 16s 736ms/step - loss: 0.2104 - accuracy: 0.9385 - val_loss: 4.1108 - val_accuracy: 0.4333\n",
            "\n",
            "Epoch 00035: val_loss did not improve from 1.18662\n",
            "Epoch 36/100\n",
            "22/22 [==============================] - 16s 730ms/step - loss: 0.2663 - accuracy: 0.8989 - val_loss: 5.7306 - val_accuracy: 0.3417\n",
            "\n",
            "Epoch 00036: val_loss did not improve from 1.18662\n",
            "Epoch 37/100\n",
            "22/22 [==============================] - 17s 744ms/step - loss: 0.2383 - accuracy: 0.9096 - val_loss: 3.8959 - val_accuracy: 0.3083\n",
            "\n",
            "Epoch 00037: val_loss did not improve from 1.18662\n",
            "Epoch 38/100\n",
            "22/22 [==============================] - 16s 728ms/step - loss: 0.1823 - accuracy: 0.9466 - val_loss: 9.9194 - val_accuracy: 0.2500\n",
            "\n",
            "Epoch 00038: val_loss did not improve from 1.18662\n",
            "Epoch 39/100\n",
            "22/22 [==============================] - 16s 731ms/step - loss: 0.2134 - accuracy: 0.9201 - val_loss: 12.5593 - val_accuracy: 0.3583\n",
            "\n",
            "Epoch 00039: val_loss did not improve from 1.18662\n",
            "Epoch 40/100\n",
            "22/22 [==============================] - 16s 733ms/step - loss: 0.1904 - accuracy: 0.9381 - val_loss: 2.3030 - val_accuracy: 0.5250\n",
            "\n",
            "Epoch 00040: val_loss did not improve from 1.18662\n",
            "Epoch 41/100\n",
            "22/22 [==============================] - 16s 733ms/step - loss: 0.1679 - accuracy: 0.9457 - val_loss: 3.8522 - val_accuracy: 0.3750\n",
            "\n",
            "Epoch 00041: val_loss did not improve from 1.18662\n",
            "Epoch 42/100\n",
            "22/22 [==============================] - 16s 732ms/step - loss: 0.1987 - accuracy: 0.9473 - val_loss: 8.6068 - val_accuracy: 0.4167\n",
            "\n",
            "Epoch 00042: val_loss did not improve from 1.18662\n",
            "Epoch 43/100\n",
            "22/22 [==============================] - 16s 723ms/step - loss: 0.1629 - accuracy: 0.9518 - val_loss: 4.1805 - val_accuracy: 0.4583\n",
            "\n",
            "Epoch 00043: val_loss did not improve from 1.18662\n",
            "Epoch 44/100\n",
            "22/22 [==============================] - 16s 723ms/step - loss: 0.1603 - accuracy: 0.9392 - val_loss: 8.6344 - val_accuracy: 0.3750\n",
            "\n",
            "Epoch 00044: val_loss did not improve from 1.18662\n",
            "Epoch 45/100\n",
            "22/22 [==============================] - 16s 731ms/step - loss: 0.1610 - accuracy: 0.9405 - val_loss: 1.7385 - val_accuracy: 0.5917\n",
            "\n",
            "Epoch 00045: val_loss did not improve from 1.18662\n",
            "Epoch 46/100\n",
            "22/22 [==============================] - 16s 729ms/step - loss: 0.1663 - accuracy: 0.9509 - val_loss: 6.0643 - val_accuracy: 0.4917\n",
            "\n",
            "Epoch 00046: val_loss did not improve from 1.18662\n",
            "Epoch 47/100\n",
            "22/22 [==============================] - 16s 726ms/step - loss: 0.1617 - accuracy: 0.9492 - val_loss: 1.3516 - val_accuracy: 0.6167\n",
            "\n",
            "Epoch 00047: val_loss did not improve from 1.18662\n",
            "Epoch 48/100\n",
            "22/22 [==============================] - 16s 731ms/step - loss: 0.1684 - accuracy: 0.9385 - val_loss: 1.2913 - val_accuracy: 0.6500\n",
            "\n",
            "Epoch 00048: val_loss did not improve from 1.18662\n",
            "Epoch 49/100\n",
            "22/22 [==============================] - 16s 729ms/step - loss: 0.1654 - accuracy: 0.9468 - val_loss: 0.6227 - val_accuracy: 0.7833\n",
            "\n",
            "Epoch 00049: val_loss improved from 1.18662 to 0.62265, saving model to best_model_mobnet.h5\n",
            "Epoch 50/100\n",
            "22/22 [==============================] - 16s 722ms/step - loss: 0.1806 - accuracy: 0.9443 - val_loss: 4.3521 - val_accuracy: 0.5000\n",
            "\n",
            "Epoch 00050: val_loss did not improve from 0.62265\n",
            "Epoch 51/100\n",
            "22/22 [==============================] - 16s 729ms/step - loss: 0.1052 - accuracy: 0.9610 - val_loss: 1.1863 - val_accuracy: 0.7167\n",
            "\n",
            "Epoch 00051: val_loss did not improve from 0.62265\n",
            "Epoch 52/100\n",
            "22/22 [==============================] - 16s 734ms/step - loss: 0.1231 - accuracy: 0.9611 - val_loss: 0.7620 - val_accuracy: 0.7500\n",
            "\n",
            "Epoch 00052: val_loss did not improve from 0.62265\n",
            "Epoch 53/100\n",
            "22/22 [==============================] - 16s 740ms/step - loss: 0.0927 - accuracy: 0.9747 - val_loss: 2.5382 - val_accuracy: 0.6250\n",
            "\n",
            "Epoch 00053: val_loss did not improve from 0.62265\n",
            "Epoch 54/100\n",
            "22/22 [==============================] - 17s 747ms/step - loss: 0.0960 - accuracy: 0.9732 - val_loss: 1.3262 - val_accuracy: 0.6500\n",
            "\n",
            "Epoch 00054: val_loss did not improve from 0.62265\n",
            "Epoch 55/100\n",
            "22/22 [==============================] - 17s 751ms/step - loss: 0.0828 - accuracy: 0.9787 - val_loss: 0.7048 - val_accuracy: 0.7500\n",
            "\n",
            "Epoch 00055: val_loss did not improve from 0.62265\n",
            "Epoch 56/100\n",
            "22/22 [==============================] - 17s 749ms/step - loss: 0.0932 - accuracy: 0.9798 - val_loss: 0.7172 - val_accuracy: 0.7583\n",
            "\n",
            "Epoch 00056: val_loss did not improve from 0.62265\n",
            "Epoch 57/100\n",
            "22/22 [==============================] - 17s 758ms/step - loss: 0.0767 - accuracy: 0.9824 - val_loss: 0.5841 - val_accuracy: 0.8167\n",
            "\n",
            "Epoch 00057: val_loss improved from 0.62265 to 0.58414, saving model to best_model_mobnet.h5\n",
            "Epoch 58/100\n",
            "22/22 [==============================] - 17s 749ms/step - loss: 0.0876 - accuracy: 0.9668 - val_loss: 1.3895 - val_accuracy: 0.5667\n",
            "\n",
            "Epoch 00058: val_loss did not improve from 0.58414\n",
            "Epoch 59/100\n",
            "22/22 [==============================] - 17s 749ms/step - loss: 0.1534 - accuracy: 0.9360 - val_loss: 1.1451 - val_accuracy: 0.6583\n",
            "\n",
            "Epoch 00059: val_loss did not improve from 0.58414\n",
            "Epoch 60/100\n",
            "22/22 [==============================] - 17s 747ms/step - loss: 0.0835 - accuracy: 0.9752 - val_loss: 5.2165 - val_accuracy: 0.4333\n",
            "\n",
            "Epoch 00060: val_loss did not improve from 0.58414\n",
            "Epoch 61/100\n",
            "22/22 [==============================] - 17s 759ms/step - loss: 0.1252 - accuracy: 0.9626 - val_loss: 1.0376 - val_accuracy: 0.7333\n",
            "\n",
            "Epoch 00061: val_loss did not improve from 0.58414\n",
            "Epoch 62/100\n",
            "22/22 [==============================] - 17s 746ms/step - loss: 0.1066 - accuracy: 0.9574 - val_loss: 1.5543 - val_accuracy: 0.5833\n",
            "\n",
            "Epoch 00062: val_loss did not improve from 0.58414\n",
            "Epoch 63/100\n",
            "22/22 [==============================] - 17s 744ms/step - loss: 0.1165 - accuracy: 0.9630 - val_loss: 4.6717 - val_accuracy: 0.3083\n",
            "\n",
            "Epoch 00063: val_loss did not improve from 0.58414\n",
            "Epoch 64/100\n",
            "22/22 [==============================] - 17s 746ms/step - loss: 0.1375 - accuracy: 0.9472 - val_loss: 1.6626 - val_accuracy: 0.5500\n",
            "\n",
            "Epoch 00064: val_loss did not improve from 0.58414\n",
            "Epoch 65/100\n",
            "22/22 [==============================] - 16s 738ms/step - loss: 0.1591 - accuracy: 0.9408 - val_loss: 3.1866 - val_accuracy: 0.3667\n",
            "\n",
            "Epoch 00065: val_loss did not improve from 0.58414\n",
            "Epoch 66/100\n",
            "22/22 [==============================] - 16s 736ms/step - loss: 0.1262 - accuracy: 0.9590 - val_loss: 5.1438 - val_accuracy: 0.4083\n",
            "\n",
            "Epoch 00066: val_loss did not improve from 0.58414\n",
            "Epoch 67/100\n",
            "22/22 [==============================] - 16s 732ms/step - loss: 0.1041 - accuracy: 0.9598 - val_loss: 7.0640 - val_accuracy: 0.3833\n",
            "\n",
            "Epoch 00067: val_loss did not improve from 0.58414\n",
            "Epoch 68/100\n",
            "22/22 [==============================] - 16s 737ms/step - loss: 0.1538 - accuracy: 0.9416 - val_loss: 4.4945 - val_accuracy: 0.4667\n",
            "\n",
            "Epoch 00068: val_loss did not improve from 0.58414\n",
            "Epoch 69/100\n",
            "22/22 [==============================] - 16s 739ms/step - loss: 0.1600 - accuracy: 0.9447 - val_loss: 4.1268 - val_accuracy: 0.5417\n",
            "\n",
            "Epoch 00069: val_loss did not improve from 0.58414\n",
            "Epoch 70/100\n",
            "22/22 [==============================] - 17s 748ms/step - loss: 0.1238 - accuracy: 0.9646 - val_loss: 8.0945 - val_accuracy: 0.3333\n",
            "\n",
            "Epoch 00070: val_loss did not improve from 0.58414\n",
            "Epoch 71/100\n",
            "22/22 [==============================] - 17s 749ms/step - loss: 0.1124 - accuracy: 0.9667 - val_loss: 4.6650 - val_accuracy: 0.5417\n",
            "\n",
            "Epoch 00071: val_loss did not improve from 0.58414\n",
            "Epoch 72/100\n",
            "22/22 [==============================] - 17s 749ms/step - loss: 0.1039 - accuracy: 0.9755 - val_loss: 1.0107 - val_accuracy: 0.7250\n",
            "\n",
            "Epoch 00072: val_loss did not improve from 0.58414\n",
            "Epoch 73/100\n",
            "22/22 [==============================] - 17s 752ms/step - loss: 0.0881 - accuracy: 0.9775 - val_loss: 2.6476 - val_accuracy: 0.6000\n",
            "\n",
            "Epoch 00073: val_loss did not improve from 0.58414\n",
            "Epoch 74/100\n",
            "22/22 [==============================] - 17s 743ms/step - loss: 0.0587 - accuracy: 0.9850 - val_loss: 3.1449 - val_accuracy: 0.5250\n",
            "\n",
            "Epoch 00074: val_loss did not improve from 0.58414\n",
            "Epoch 75/100\n",
            "22/22 [==============================] - 16s 742ms/step - loss: 0.0786 - accuracy: 0.9777 - val_loss: 5.6157 - val_accuracy: 0.4250\n",
            "\n",
            "Epoch 00075: val_loss did not improve from 0.58414\n",
            "Epoch 76/100\n",
            "22/22 [==============================] - 17s 744ms/step - loss: 0.0690 - accuracy: 0.9794 - val_loss: 1.3035 - val_accuracy: 0.6833\n",
            "\n",
            "Epoch 00076: val_loss did not improve from 0.58414\n",
            "Epoch 77/100\n",
            "22/22 [==============================] - 17s 744ms/step - loss: 0.0563 - accuracy: 0.9806 - val_loss: 0.8689 - val_accuracy: 0.7583\n",
            "\n",
            "Epoch 00077: val_loss did not improve from 0.58414\n",
            "Epoch 78/100\n",
            "22/22 [==============================] - 16s 741ms/step - loss: 0.0526 - accuracy: 0.9851 - val_loss: 1.1918 - val_accuracy: 0.7500\n",
            "\n",
            "Epoch 00078: val_loss did not improve from 0.58414\n",
            "Epoch 79/100\n",
            "22/22 [==============================] - 17s 743ms/step - loss: 0.0503 - accuracy: 0.9885 - val_loss: 6.2011 - val_accuracy: 0.2417\n",
            "\n",
            "Epoch 00079: val_loss did not improve from 0.58414\n",
            "Epoch 80/100\n",
            "22/22 [==============================] - 17s 748ms/step - loss: 0.0572 - accuracy: 0.9762 - val_loss: 4.7407 - val_accuracy: 0.2917\n",
            "\n",
            "Epoch 00080: val_loss did not improve from 0.58414\n",
            "Epoch 81/100\n",
            "22/22 [==============================] - 17s 743ms/step - loss: 0.0907 - accuracy: 0.9764 - val_loss: 4.0865 - val_accuracy: 0.3583\n",
            "\n",
            "Epoch 00081: val_loss did not improve from 0.58414\n",
            "Epoch 82/100\n",
            "22/22 [==============================] - 17s 746ms/step - loss: 0.0575 - accuracy: 0.9810 - val_loss: 1.6248 - val_accuracy: 0.5833\n",
            "\n",
            "Epoch 00082: val_loss did not improve from 0.58414\n",
            "Epoch 83/100\n",
            "22/22 [==============================] - 17s 744ms/step - loss: 0.0489 - accuracy: 0.9895 - val_loss: 1.6300 - val_accuracy: 0.5917\n",
            "\n",
            "Epoch 00083: val_loss did not improve from 0.58414\n",
            "Epoch 84/100\n",
            "22/22 [==============================] - 16s 741ms/step - loss: 0.0644 - accuracy: 0.9856 - val_loss: 0.5738 - val_accuracy: 0.7917\n",
            "\n",
            "Epoch 00084: val_loss improved from 0.58414 to 0.57378, saving model to best_model_mobnet.h5\n",
            "Epoch 85/100\n",
            "22/22 [==============================] - 17s 772ms/step - loss: 0.0867 - accuracy: 0.9667 - val_loss: 2.2503 - val_accuracy: 0.5583\n",
            "\n",
            "Epoch 00085: val_loss did not improve from 0.57378\n",
            "Epoch 86/100\n",
            "22/22 [==============================] - 17s 745ms/step - loss: 0.0696 - accuracy: 0.9781 - val_loss: 0.7595 - val_accuracy: 0.8000\n",
            "\n",
            "Epoch 00086: val_loss did not improve from 0.57378\n",
            "Epoch 87/100\n",
            "22/22 [==============================] - 17s 743ms/step - loss: 0.0682 - accuracy: 0.9795 - val_loss: 0.9353 - val_accuracy: 0.7583\n",
            "\n",
            "Epoch 00087: val_loss did not improve from 0.57378\n",
            "Epoch 88/100\n",
            "22/22 [==============================] - 17s 749ms/step - loss: 0.0679 - accuracy: 0.9704 - val_loss: 2.8150 - val_accuracy: 0.5333\n",
            "\n",
            "Epoch 00088: val_loss did not improve from 0.57378\n",
            "Epoch 89/100\n",
            "22/22 [==============================] - 17s 744ms/step - loss: 0.0526 - accuracy: 0.9838 - val_loss: 1.4272 - val_accuracy: 0.6250\n",
            "\n",
            "Epoch 00089: val_loss did not improve from 0.57378\n",
            "Epoch 90/100\n",
            "22/22 [==============================] - 17s 743ms/step - loss: 0.0308 - accuracy: 0.9974 - val_loss: 1.6536 - val_accuracy: 0.6333\n",
            "\n",
            "Epoch 00090: val_loss did not improve from 0.57378\n",
            "Epoch 91/100\n",
            "22/22 [==============================] - 17s 746ms/step - loss: 0.0580 - accuracy: 0.9721 - val_loss: 1.0325 - val_accuracy: 0.7417\n",
            "\n",
            "Epoch 00091: val_loss did not improve from 0.57378\n",
            "Epoch 92/100\n",
            "22/22 [==============================] - 17s 747ms/step - loss: 0.0769 - accuracy: 0.9693 - val_loss: 5.9482 - val_accuracy: 0.4250\n",
            "\n",
            "Epoch 00092: val_loss did not improve from 0.57378\n",
            "Epoch 93/100\n",
            "22/22 [==============================] - 16s 742ms/step - loss: 0.0812 - accuracy: 0.9722 - val_loss: 3.0980 - val_accuracy: 0.5333\n",
            "\n",
            "Epoch 00093: val_loss did not improve from 0.57378\n",
            "Epoch 94/100\n",
            "22/22 [==============================] - 17s 750ms/step - loss: 0.0812 - accuracy: 0.9775 - val_loss: 1.7314 - val_accuracy: 0.5833\n",
            "\n",
            "Epoch 00094: val_loss did not improve from 0.57378\n",
            "Epoch 95/100\n",
            "22/22 [==============================] - 17s 748ms/step - loss: 0.0610 - accuracy: 0.9803 - val_loss: 0.8281 - val_accuracy: 0.7333\n",
            "\n",
            "Epoch 00095: val_loss did not improve from 0.57378\n",
            "Epoch 96/100\n",
            "22/22 [==============================] - 17s 746ms/step - loss: 0.0294 - accuracy: 0.9956 - val_loss: 0.8991 - val_accuracy: 0.7167\n",
            "\n",
            "Epoch 00096: val_loss did not improve from 0.57378\n",
            "Epoch 97/100\n",
            "22/22 [==============================] - 17s 745ms/step - loss: 0.0441 - accuracy: 0.9873 - val_loss: 1.5135 - val_accuracy: 0.6667\n",
            "\n",
            "Epoch 00097: val_loss did not improve from 0.57378\n",
            "Epoch 98/100\n",
            "22/22 [==============================] - 17s 751ms/step - loss: 0.0442 - accuracy: 0.9886 - val_loss: 2.4842 - val_accuracy: 0.5833\n",
            "\n",
            "Epoch 00098: val_loss did not improve from 0.57378\n",
            "Epoch 99/100\n",
            "22/22 [==============================] - 17s 748ms/step - loss: 0.0571 - accuracy: 0.9786 - val_loss: 6.4412 - val_accuracy: 0.5083\n",
            "\n",
            "Epoch 00099: val_loss did not improve from 0.57378\n",
            "Epoch 100/100\n",
            "22/22 [==============================] - 17s 751ms/step - loss: 0.0515 - accuracy: 0.9854 - val_loss: 5.0017 - val_accuracy: 0.4750\n",
            "\n",
            "Epoch 00100: val_loss did not improve from 0.57378\n"
          ],
          "name": "stdout"
        }
      ]
    },
    {
      "cell_type": "code",
      "metadata": {
        "colab": {
          "base_uri": "https://localhost:8080/"
        },
        "id": "RPk0aETmjkEj",
        "outputId": "0b9c5b6f-1d76-470e-cf3b-f7a5d50594f8"
      },
      "source": [
        "# Loading the test set\n",
        "test_datagen = ImageDataGenerator(rescale=1./255)\n",
        "\n",
        "test_set = test_datagen.flow_from_directory(\n",
        "        '/content/spec_samples/spectrograms/test',\n",
        "        color_mode=\"rgb\",\n",
        "        target_size=(288,288),\n",
        "        batch_size=1,\n",
        "        shuffle=False,\n",
        "        seed=42,\n",
        "        class_mode='categorical')"
      ],
      "execution_count": null,
      "outputs": [
        {
          "output_type": "stream",
          "text": [
            "Found 150 images belonging to 5 classes.\n"
          ],
          "name": "stdout"
        }
      ]
    },
    {
      "cell_type": "code",
      "metadata": {
        "id": "ZCDFHD76f3rR"
      },
      "source": [
        "# Loading the best model\n",
        "from keras.models import load_model\n",
        "\n",
        "classifier = load_model('best_model_mobnet.h5')"
      ],
      "execution_count": null,
      "outputs": []
    },
    {
      "cell_type": "code",
      "metadata": {
        "id": "MdxSrbGEB0Dw"
      },
      "source": [
        "# Getting the predictions\n",
        "test_set.reset()\n",
        "\n",
        "predictions=classifier.predict(test_set)\n",
        "\n",
        "# Predicted classes\n",
        "y_pred=np.argmax(predictions,axis=1)\n",
        "\n",
        "# Actual classes\n",
        "y_true = test_set.classes"
      ],
      "execution_count": null,
      "outputs": []
    },
    {
      "cell_type": "code",
      "metadata": {
        "colab": {
          "base_uri": "https://localhost:8080/"
        },
        "id": "1o6RjKrbgiNs",
        "outputId": "b7ef1f70-4e3c-4a9c-9834-cefc732f02e9"
      },
      "source": [
        "test_set.class_indices"
      ],
      "execution_count": null,
      "outputs": [
        {
          "output_type": "execute_result",
          "data": {
            "text/plain": [
              "{'angry': 0, 'fearful': 1, 'happy': 2, 'sad': 3, 'surprised': 4}"
            ]
          },
          "metadata": {
            "tags": []
          },
          "execution_count": 13
        }
      ]
    },
    {
      "cell_type": "code",
      "metadata": {
        "colab": {
          "base_uri": "https://localhost:8080/",
          "height": 621
        },
        "id": "LabbL1ZBCCxR",
        "outputId": "aa5a5926-bfbc-44d5-85af-63c4d885a90a"
      },
      "source": [
        "# Plotting the confusion matrix\n",
        "c_matrix=confusion_matrix(y_true, y_pred)\n",
        "plot,ax = plt.subplots(figsize=(10, 10))\n",
        "sns.heatmap(c_matrix, annot=True, linewidths=0.05,cmap=\"Wistia\", fmt= '.1f'\n",
        "            ,ax=ax)\n",
        "ax.set_xticklabels(test_set.class_indices)\n",
        "ax.set_yticklabels(test_set.class_indices)\n",
        "\n",
        "plt.xlabel(\"Predicted Labels\")\n",
        "plt.ylabel(\"Actual Labels\")\n",
        "plt.title(\"Confusion Matrix\")\n",
        "plt.show()"
      ],
      "execution_count": null,
      "outputs": [
        {
          "output_type": "display_data",
          "data": {
            "image/png": "[encoded data removed]",
            "text/plain": [
              "<Figure size 720x720 with 2 Axes>"
            ]
          },
          "metadata": {
            "tags": [],
            "needs_background": "light"
          }
        }
      ]
    },
    {
      "cell_type": "code",
      "metadata": {
        "colab": {
          "base_uri": "https://localhost:8080/"
        },
        "id": "c_iRbopTCFtA",
        "outputId": "cf1ca229-f991-42b9-9d98-d1faa5ad9dd9"
      },
      "source": [
        "# Generating classification report\n",
        "print('Classification Report')\n",
        "print(classification_report(y_true, y_pred, \n",
        "                            target_names=test_set.class_indices))"
      ],
      "execution_count": null,
      "outputs": [
        {
          "output_type": "stream",
          "text": [
            "Classification Report\n",
            "              precision    recall  f1-score   support\n",
            "\n",
            "       angry       0.83      1.00      0.91        30\n",
            "     fearful       0.66      0.83      0.74        30\n",
            "       happy       0.74      0.77      0.75        30\n",
            "         sad       0.94      0.53      0.68        30\n",
            "   surprised       0.86      0.80      0.83        30\n",
            "\n",
            "    accuracy                           0.79       150\n",
            "   macro avg       0.81      0.79      0.78       150\n",
            "weighted avg       0.81      0.79      0.78       150\n",
            "\n"
          ],
          "name": "stdout"
        }
      ]
    },
    {
      "cell_type": "code",
      "metadata": {
        "id": "aW9b_ee1mU_Y"
      },
      "source": [
        "# Saving the model\n",
        "classifier.save('emotion_det_spec_79.h5')"
      ],
      "execution_count": null,
      "outputs": []
    },
    {
      "cell_type": "code",
      "metadata": {
        "id": "O8IQn77Ul_hT"
      },
      "source": [
        "# Saving the training history\n",
        "json_file = 'emotion_det_spec_79.json' \n",
        "\n",
        "import pandas as pd\n",
        "hist_datafr = pd.DataFrame(hist_data.history)\n",
        "with open(json_file, mode='w') as jfile:\n",
        "    hist_datafr.to_json(jfile)"
      ],
      "execution_count": null,
      "outputs": []
    },
    {
      "cell_type": "code",
      "metadata": {
        "id": "d2HhloY2B3Zr",
        "colab": {
          "base_uri": "https://localhost:8080/",
          "height": 297
        },
        "outputId": "b55d9dcf-6758-49a7-cd72-9bc07771c3bd"
      },
      "source": [
        "import pandas as pd\n",
        "train_hstry_df = pd.read_json(json_file).sort_index(axis=0)\n",
        "\n",
        "fig = plt.figure()\n",
        "# Plotting Accuracy of training and validation set\n",
        "plt.subplot(2,1,1)\n",
        "plt.plot(train_hstry_df['accuracy'],'r')\n",
        "plt.plot(train_hstry_df['val_accuracy'],'b')\n",
        "plt.title('Model Accuracy')\n",
        "plt.ylabel('Accuracy')\n",
        "plt.xlabel('Epochs')\n",
        "plt.legend(['Train', 'Validation'], loc='lower right')\n",
        "\n",
        "# Plotting loss of training and validation set\n",
        "plt.subplot(2,1,2)\n",
        "plt.plot(train_hstry_df['loss'],'c')\n",
        "plt.plot(train_hstry_df['val_loss'],'m')\n",
        "plt.title('Model Loss')\n",
        "plt.ylabel('Loss')\n",
        "plt.xlabel('Epochs')\n",
        "plt.legend(['Train', 'Validation'], loc='upper right')\n",
        "\n",
        "plt.tight_layout()"
      ],
      "execution_count": null,
      "outputs": [
        {
          "output_type": "display_data",
          "data": {
            "image/png": "[encoded data removed]",
            "text/plain": [
              "<Figure size 432x288 with 2 Axes>"
            ]
          },
          "metadata": {
            "tags": [],
            "needs_background": "light"
          }
        }
      ]
    },
    {
      "cell_type": "code",
      "metadata": {
        "id": "CGQoFfMbk9hg"
      },
      "source": [
        ""
      ],
      "execution_count": null,
      "outputs": []
    },
    {
      "cell_type": "code",
      "metadata": {
        "id": "Rk9a7ZBQl9h-"
      },
      "source": [
        ""
      ],
      "execution_count": null,
      "outputs": []
    }
  ]
}